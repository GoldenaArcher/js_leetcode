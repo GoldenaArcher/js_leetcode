{
 "metadata": {
  "orig_nbformat": 2,
  "kernelspec": {
   "name": "javascript",
   "display_name": "Javascript (Node.js)",
   "language": "javascript"
  }
 },
 "nbformat": 4,
 "nbformat_minor": 2,
 "cells": [
  {
   "cell_type": "code",
   "execution_count": null,
   "metadata": {},
   "outputs": [],
   "source": [
    "// 冒泡排序"
   ]
  },
  {
   "cell_type": "code",
   "execution_count": 1,
   "metadata": {},
   "outputs": [],
   "source": [
    "const cloneDeep = require('lodash/cloneDeep')\n",
    "const origionalArr = [1,2,3,4,5]\n",
    "const copiedArr = cloneDeep(origionalArr);"
   ]
  },
  {
   "cell_type": "code",
   "execution_count": 2,
   "metadata": {},
   "outputs": [
    {
     "output_type": "stream",
     "name": "stdout",
     "text": [
      "[ 1, 2, 3, 4, 5 ]\n"
     ]
    }
   ],
   "source": [
    "console.log(copiedArr);"
   ]
  },
  {
   "cell_type": "code",
   "execution_count": 6,
   "metadata": {},
   "outputs": [
    {
     "output_type": "stream",
     "name": "stdout",
     "text": [
      "[ 1, 2, 3, 4, 5 ]\n"
     ]
    }
   ],
   "source": [
    "var _ = require('lodash');\n",
    "var arr = [1,2,3,4,5]\n",
    "var arr2 = _.cloneDeep(arr);\n",
    "console.log(arr2);"
   ]
  },
  {
   "cell_type": "code",
   "execution_count": null,
   "metadata": {},
   "outputs": [],
   "source": []
  }
 ]
}